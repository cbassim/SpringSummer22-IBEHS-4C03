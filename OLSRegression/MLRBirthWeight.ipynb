{
 "cells": [
  {
   "cell_type": "markdown",
   "id": "wicked-jesus",
   "metadata": {},
   "source": [
    "# Multiple Linear Regression with Birtweight Data"
   ]
  },
  {
   "cell_type": "code",
   "execution_count": 199,
   "id": "increasing-health",
   "metadata": {},
   "outputs": [
    {
     "name": "stdin",
     "output_type": "stream",
     "text": [
      "Once deleted, variables cannot be recovered. Proceed (y/[n])?  y\n"
     ]
    }
   ],
   "source": [
    "%reset\n",
    "import pandas as pd\n",
    "import numpy as np"
   ]
  },
  {
   "cell_type": "code",
   "execution_count": 200,
   "id": "b96a5d1f-9611-4b5f-a0b3-2312fa0c75f9",
   "metadata": {},
   "outputs": [],
   "source": [
    "import seaborn as sns\n",
    "import matplotlib.pyplot as plt"
   ]
  },
  {
   "cell_type": "code",
   "execution_count": 208,
   "id": "25b92e67-39ef-443f-a3f6-b383dc60feeb",
   "metadata": {},
   "outputs": [],
   "source": [
    "from statsmodels.formula.api import ols"
   ]
  },
  {
   "cell_type": "markdown",
   "id": "5167df59-ebdd-4374-b4ab-a9888c2117c6",
   "metadata": {},
   "source": [
    "# Indicator Variables\n",
    "\n",
    "New data of babies birth weight, gestational age, and mother's smoking behavior, n= 32.\n",
    "\n",
    "Example:   Is an infant's birthweight associated with the mother's smoking status (yes or no) during pregnancy?\n",
    "\n",
    "Smoking is s qualitative or categorical predictor, a binary variable.  "
   ]
  },
  {
   "cell_type": "code",
   "execution_count": 209,
   "id": "4d82fa91-4f70-4527-871f-c9d2c0a3a350",
   "metadata": {},
   "outputs": [
    {
     "data": {
      "text/html": [
       "<div>\n",
       "<style scoped>\n",
       "    .dataframe tbody tr th:only-of-type {\n",
       "        vertical-align: middle;\n",
       "    }\n",
       "\n",
       "    .dataframe tbody tr th {\n",
       "        vertical-align: top;\n",
       "    }\n",
       "\n",
       "    .dataframe thead th {\n",
       "        text-align: right;\n",
       "    }\n",
       "</style>\n",
       "<table border=\"1\" class=\"dataframe\">\n",
       "  <thead>\n",
       "    <tr style=\"text-align: right;\">\n",
       "      <th></th>\n",
       "      <th>Birthweight_g</th>\n",
       "      <th>Gestational_age_weeks</th>\n",
       "      <th>Mother_Smokes</th>\n",
       "    </tr>\n",
       "  </thead>\n",
       "  <tbody>\n",
       "    <tr>\n",
       "      <th>0</th>\n",
       "      <td>2940</td>\n",
       "      <td>38</td>\n",
       "      <td>yes</td>\n",
       "    </tr>\n",
       "    <tr>\n",
       "      <th>1</th>\n",
       "      <td>3130</td>\n",
       "      <td>38</td>\n",
       "      <td>no</td>\n",
       "    </tr>\n",
       "    <tr>\n",
       "      <th>2</th>\n",
       "      <td>2420</td>\n",
       "      <td>36</td>\n",
       "      <td>yes</td>\n",
       "    </tr>\n",
       "    <tr>\n",
       "      <th>3</th>\n",
       "      <td>2450</td>\n",
       "      <td>34</td>\n",
       "      <td>no</td>\n",
       "    </tr>\n",
       "    <tr>\n",
       "      <th>4</th>\n",
       "      <td>2760</td>\n",
       "      <td>39</td>\n",
       "      <td>yes</td>\n",
       "    </tr>\n",
       "    <tr>\n",
       "      <th>5</th>\n",
       "      <td>2440</td>\n",
       "      <td>35</td>\n",
       "      <td>yes</td>\n",
       "    </tr>\n",
       "    <tr>\n",
       "      <th>6</th>\n",
       "      <td>3226</td>\n",
       "      <td>40</td>\n",
       "      <td>no</td>\n",
       "    </tr>\n",
       "    <tr>\n",
       "      <th>7</th>\n",
       "      <td>3301</td>\n",
       "      <td>42</td>\n",
       "      <td>yes</td>\n",
       "    </tr>\n",
       "    <tr>\n",
       "      <th>8</th>\n",
       "      <td>2729</td>\n",
       "      <td>37</td>\n",
       "      <td>no</td>\n",
       "    </tr>\n",
       "    <tr>\n",
       "      <th>9</th>\n",
       "      <td>3410</td>\n",
       "      <td>40</td>\n",
       "      <td>no</td>\n",
       "    </tr>\n",
       "    <tr>\n",
       "      <th>10</th>\n",
       "      <td>2715</td>\n",
       "      <td>36</td>\n",
       "      <td>yes</td>\n",
       "    </tr>\n",
       "    <tr>\n",
       "      <th>11</th>\n",
       "      <td>3095</td>\n",
       "      <td>39</td>\n",
       "      <td>no</td>\n",
       "    </tr>\n",
       "    <tr>\n",
       "      <th>12</th>\n",
       "      <td>3130</td>\n",
       "      <td>39</td>\n",
       "      <td>yes</td>\n",
       "    </tr>\n",
       "    <tr>\n",
       "      <th>13</th>\n",
       "      <td>3244</td>\n",
       "      <td>39</td>\n",
       "      <td>no</td>\n",
       "    </tr>\n",
       "    <tr>\n",
       "      <th>14</th>\n",
       "      <td>2520</td>\n",
       "      <td>35</td>\n",
       "      <td>no</td>\n",
       "    </tr>\n",
       "    <tr>\n",
       "      <th>15</th>\n",
       "      <td>2928</td>\n",
       "      <td>39</td>\n",
       "      <td>yes</td>\n",
       "    </tr>\n",
       "    <tr>\n",
       "      <th>16</th>\n",
       "      <td>3523</td>\n",
       "      <td>41</td>\n",
       "      <td>no</td>\n",
       "    </tr>\n",
       "    <tr>\n",
       "      <th>17</th>\n",
       "      <td>3446</td>\n",
       "      <td>42</td>\n",
       "      <td>yes</td>\n",
       "    </tr>\n",
       "    <tr>\n",
       "      <th>18</th>\n",
       "      <td>2920</td>\n",
       "      <td>38</td>\n",
       "      <td>no</td>\n",
       "    </tr>\n",
       "    <tr>\n",
       "      <th>19</th>\n",
       "      <td>2957</td>\n",
       "      <td>39</td>\n",
       "      <td>yes</td>\n",
       "    </tr>\n",
       "    <tr>\n",
       "      <th>20</th>\n",
       "      <td>3530</td>\n",
       "      <td>42</td>\n",
       "      <td>no</td>\n",
       "    </tr>\n",
       "    <tr>\n",
       "      <th>21</th>\n",
       "      <td>2580</td>\n",
       "      <td>38</td>\n",
       "      <td>yes</td>\n",
       "    </tr>\n",
       "    <tr>\n",
       "      <th>22</th>\n",
       "      <td>3040</td>\n",
       "      <td>37</td>\n",
       "      <td>no</td>\n",
       "    </tr>\n",
       "    <tr>\n",
       "      <th>23</th>\n",
       "      <td>3500</td>\n",
       "      <td>42</td>\n",
       "      <td>yes</td>\n",
       "    </tr>\n",
       "    <tr>\n",
       "      <th>24</th>\n",
       "      <td>3200</td>\n",
       "      <td>41</td>\n",
       "      <td>yes</td>\n",
       "    </tr>\n",
       "    <tr>\n",
       "      <th>25</th>\n",
       "      <td>3322</td>\n",
       "      <td>39</td>\n",
       "      <td>no</td>\n",
       "    </tr>\n",
       "    <tr>\n",
       "      <th>26</th>\n",
       "      <td>3459</td>\n",
       "      <td>40</td>\n",
       "      <td>no</td>\n",
       "    </tr>\n",
       "    <tr>\n",
       "      <th>27</th>\n",
       "      <td>3346</td>\n",
       "      <td>42</td>\n",
       "      <td>yes</td>\n",
       "    </tr>\n",
       "    <tr>\n",
       "      <th>28</th>\n",
       "      <td>2619</td>\n",
       "      <td>35</td>\n",
       "      <td>no</td>\n",
       "    </tr>\n",
       "    <tr>\n",
       "      <th>29</th>\n",
       "      <td>3175</td>\n",
       "      <td>41</td>\n",
       "      <td>yes</td>\n",
       "    </tr>\n",
       "    <tr>\n",
       "      <th>30</th>\n",
       "      <td>2740</td>\n",
       "      <td>38</td>\n",
       "      <td>yes</td>\n",
       "    </tr>\n",
       "    <tr>\n",
       "      <th>31</th>\n",
       "      <td>2841</td>\n",
       "      <td>36</td>\n",
       "      <td>no</td>\n",
       "    </tr>\n",
       "  </tbody>\n",
       "</table>\n",
       "</div>"
      ],
      "text/plain": [
       "    Birthweight_g  Gestational_age_weeks Mother_Smokes\n",
       "0            2940                     38           yes\n",
       "1            3130                     38            no\n",
       "2            2420                     36           yes\n",
       "3            2450                     34            no\n",
       "4            2760                     39           yes\n",
       "5            2440                     35           yes\n",
       "6            3226                     40            no\n",
       "7            3301                     42           yes\n",
       "8            2729                     37            no\n",
       "9            3410                     40            no\n",
       "10           2715                     36           yes\n",
       "11           3095                     39            no\n",
       "12           3130                     39           yes\n",
       "13           3244                     39            no\n",
       "14           2520                     35            no\n",
       "15           2928                     39           yes\n",
       "16           3523                     41            no\n",
       "17           3446                     42           yes\n",
       "18           2920                     38            no\n",
       "19           2957                     39           yes\n",
       "20           3530                     42            no\n",
       "21           2580                     38           yes\n",
       "22           3040                     37            no\n",
       "23           3500                     42           yes\n",
       "24           3200                     41           yes\n",
       "25           3322                     39            no\n",
       "26           3459                     40            no\n",
       "27           3346                     42           yes\n",
       "28           2619                     35            no\n",
       "29           3175                     41           yes\n",
       "30           2740                     38           yes\n",
       "31           2841                     36            no"
      ]
     },
     "execution_count": 209,
     "metadata": {},
     "output_type": "execute_result"
    }
   ],
   "source": [
    "birthweight=pd.read_csv('BirthWeight.csv')\n",
    "birthweight"
   ]
  },
  {
   "cell_type": "code",
   "execution_count": 210,
   "id": "ef31af61-35f4-43fc-9ea6-9a54e313a434",
   "metadata": {},
   "outputs": [
    {
     "data": {
      "text/html": [
       "<div>\n",
       "<style scoped>\n",
       "    .dataframe tbody tr th:only-of-type {\n",
       "        vertical-align: middle;\n",
       "    }\n",
       "\n",
       "    .dataframe tbody tr th {\n",
       "        vertical-align: top;\n",
       "    }\n",
       "\n",
       "    .dataframe thead th {\n",
       "        text-align: right;\n",
       "    }\n",
       "</style>\n",
       "<table border=\"1\" class=\"dataframe\">\n",
       "  <thead>\n",
       "    <tr style=\"text-align: right;\">\n",
       "      <th></th>\n",
       "      <th>Birthweight_g</th>\n",
       "      <th>Gestational_age_weeks</th>\n",
       "      <th>Mother_Smokes_yes</th>\n",
       "    </tr>\n",
       "  </thead>\n",
       "  <tbody>\n",
       "    <tr>\n",
       "      <th>0</th>\n",
       "      <td>2940</td>\n",
       "      <td>38</td>\n",
       "      <td>1</td>\n",
       "    </tr>\n",
       "    <tr>\n",
       "      <th>1</th>\n",
       "      <td>3130</td>\n",
       "      <td>38</td>\n",
       "      <td>0</td>\n",
       "    </tr>\n",
       "    <tr>\n",
       "      <th>2</th>\n",
       "      <td>2420</td>\n",
       "      <td>36</td>\n",
       "      <td>1</td>\n",
       "    </tr>\n",
       "    <tr>\n",
       "      <th>3</th>\n",
       "      <td>2450</td>\n",
       "      <td>34</td>\n",
       "      <td>0</td>\n",
       "    </tr>\n",
       "    <tr>\n",
       "      <th>4</th>\n",
       "      <td>2760</td>\n",
       "      <td>39</td>\n",
       "      <td>1</td>\n",
       "    </tr>\n",
       "    <tr>\n",
       "      <th>5</th>\n",
       "      <td>2440</td>\n",
       "      <td>35</td>\n",
       "      <td>1</td>\n",
       "    </tr>\n",
       "    <tr>\n",
       "      <th>6</th>\n",
       "      <td>3226</td>\n",
       "      <td>40</td>\n",
       "      <td>0</td>\n",
       "    </tr>\n",
       "    <tr>\n",
       "      <th>7</th>\n",
       "      <td>3301</td>\n",
       "      <td>42</td>\n",
       "      <td>1</td>\n",
       "    </tr>\n",
       "    <tr>\n",
       "      <th>8</th>\n",
       "      <td>2729</td>\n",
       "      <td>37</td>\n",
       "      <td>0</td>\n",
       "    </tr>\n",
       "    <tr>\n",
       "      <th>9</th>\n",
       "      <td>3410</td>\n",
       "      <td>40</td>\n",
       "      <td>0</td>\n",
       "    </tr>\n",
       "    <tr>\n",
       "      <th>10</th>\n",
       "      <td>2715</td>\n",
       "      <td>36</td>\n",
       "      <td>1</td>\n",
       "    </tr>\n",
       "    <tr>\n",
       "      <th>11</th>\n",
       "      <td>3095</td>\n",
       "      <td>39</td>\n",
       "      <td>0</td>\n",
       "    </tr>\n",
       "    <tr>\n",
       "      <th>12</th>\n",
       "      <td>3130</td>\n",
       "      <td>39</td>\n",
       "      <td>1</td>\n",
       "    </tr>\n",
       "    <tr>\n",
       "      <th>13</th>\n",
       "      <td>3244</td>\n",
       "      <td>39</td>\n",
       "      <td>0</td>\n",
       "    </tr>\n",
       "    <tr>\n",
       "      <th>14</th>\n",
       "      <td>2520</td>\n",
       "      <td>35</td>\n",
       "      <td>0</td>\n",
       "    </tr>\n",
       "    <tr>\n",
       "      <th>15</th>\n",
       "      <td>2928</td>\n",
       "      <td>39</td>\n",
       "      <td>1</td>\n",
       "    </tr>\n",
       "    <tr>\n",
       "      <th>16</th>\n",
       "      <td>3523</td>\n",
       "      <td>41</td>\n",
       "      <td>0</td>\n",
       "    </tr>\n",
       "    <tr>\n",
       "      <th>17</th>\n",
       "      <td>3446</td>\n",
       "      <td>42</td>\n",
       "      <td>1</td>\n",
       "    </tr>\n",
       "    <tr>\n",
       "      <th>18</th>\n",
       "      <td>2920</td>\n",
       "      <td>38</td>\n",
       "      <td>0</td>\n",
       "    </tr>\n",
       "    <tr>\n",
       "      <th>19</th>\n",
       "      <td>2957</td>\n",
       "      <td>39</td>\n",
       "      <td>1</td>\n",
       "    </tr>\n",
       "    <tr>\n",
       "      <th>20</th>\n",
       "      <td>3530</td>\n",
       "      <td>42</td>\n",
       "      <td>0</td>\n",
       "    </tr>\n",
       "    <tr>\n",
       "      <th>21</th>\n",
       "      <td>2580</td>\n",
       "      <td>38</td>\n",
       "      <td>1</td>\n",
       "    </tr>\n",
       "    <tr>\n",
       "      <th>22</th>\n",
       "      <td>3040</td>\n",
       "      <td>37</td>\n",
       "      <td>0</td>\n",
       "    </tr>\n",
       "    <tr>\n",
       "      <th>23</th>\n",
       "      <td>3500</td>\n",
       "      <td>42</td>\n",
       "      <td>1</td>\n",
       "    </tr>\n",
       "    <tr>\n",
       "      <th>24</th>\n",
       "      <td>3200</td>\n",
       "      <td>41</td>\n",
       "      <td>1</td>\n",
       "    </tr>\n",
       "    <tr>\n",
       "      <th>25</th>\n",
       "      <td>3322</td>\n",
       "      <td>39</td>\n",
       "      <td>0</td>\n",
       "    </tr>\n",
       "    <tr>\n",
       "      <th>26</th>\n",
       "      <td>3459</td>\n",
       "      <td>40</td>\n",
       "      <td>0</td>\n",
       "    </tr>\n",
       "    <tr>\n",
       "      <th>27</th>\n",
       "      <td>3346</td>\n",
       "      <td>42</td>\n",
       "      <td>1</td>\n",
       "    </tr>\n",
       "    <tr>\n",
       "      <th>28</th>\n",
       "      <td>2619</td>\n",
       "      <td>35</td>\n",
       "      <td>0</td>\n",
       "    </tr>\n",
       "    <tr>\n",
       "      <th>29</th>\n",
       "      <td>3175</td>\n",
       "      <td>41</td>\n",
       "      <td>1</td>\n",
       "    </tr>\n",
       "    <tr>\n",
       "      <th>30</th>\n",
       "      <td>2740</td>\n",
       "      <td>38</td>\n",
       "      <td>1</td>\n",
       "    </tr>\n",
       "    <tr>\n",
       "      <th>31</th>\n",
       "      <td>2841</td>\n",
       "      <td>36</td>\n",
       "      <td>0</td>\n",
       "    </tr>\n",
       "  </tbody>\n",
       "</table>\n",
       "</div>"
      ],
      "text/plain": [
       "    Birthweight_g  Gestational_age_weeks  Mother_Smokes_yes\n",
       "0            2940                     38                  1\n",
       "1            3130                     38                  0\n",
       "2            2420                     36                  1\n",
       "3            2450                     34                  0\n",
       "4            2760                     39                  1\n",
       "5            2440                     35                  1\n",
       "6            3226                     40                  0\n",
       "7            3301                     42                  1\n",
       "8            2729                     37                  0\n",
       "9            3410                     40                  0\n",
       "10           2715                     36                  1\n",
       "11           3095                     39                  0\n",
       "12           3130                     39                  1\n",
       "13           3244                     39                  0\n",
       "14           2520                     35                  0\n",
       "15           2928                     39                  1\n",
       "16           3523                     41                  0\n",
       "17           3446                     42                  1\n",
       "18           2920                     38                  0\n",
       "19           2957                     39                  1\n",
       "20           3530                     42                  0\n",
       "21           2580                     38                  1\n",
       "22           3040                     37                  0\n",
       "23           3500                     42                  1\n",
       "24           3200                     41                  1\n",
       "25           3322                     39                  0\n",
       "26           3459                     40                  0\n",
       "27           3346                     42                  1\n",
       "28           2619                     35                  0\n",
       "29           3175                     41                  1\n",
       "30           2740                     38                  1\n",
       "31           2841                     36                  0"
      ]
     },
     "execution_count": 210,
     "metadata": {},
     "output_type": "execute_result"
    }
   ],
   "source": [
    "# You can code the yes/no string to a dummy or indicator variable or 1/0 to use as a model variable.  \n",
    "\n",
    "#  You do not have to dummy code a binary variable to binary number to use a predictor with ols:  it will dummmy code it for you.  You get the same output either way.\n",
    "\n",
    "birthweightD=pd.get_dummies(birthweight,drop_first=True,dtype='int')\n",
    "birthweightD"
   ]
  },
  {
   "cell_type": "code",
   "execution_count": 203,
   "id": "d7bdf719-a39d-45ba-b340-cde12ba32f98",
   "metadata": {},
   "outputs": [
    {
     "name": "stdout",
     "output_type": "stream",
     "text": [
      "<class 'pandas.core.frame.DataFrame'>\n",
      "RangeIndex: 32 entries, 0 to 31\n",
      "Data columns (total 3 columns):\n",
      " #   Column                 Non-Null Count  Dtype\n",
      "---  ------                 --------------  -----\n",
      " 0   Birthweight_g          32 non-null     int64\n",
      " 1   Gestational_age_weeks  32 non-null     int64\n",
      " 2   Mother_Smokes_yes      32 non-null     int32\n",
      "dtypes: int32(1), int64(2)\n",
      "memory usage: 768.0 bytes\n"
     ]
    }
   ],
   "source": [
    "# We have changed the Mother_Smokes variable into an intteger from an object\n",
    "birthweightD.info()"
   ]
  },
  {
   "cell_type": "code",
   "execution_count": 204,
   "id": "6978851b-299c-4e7b-b6e1-8990d89addb4",
   "metadata": {},
   "outputs": [
    {
     "data": {
      "text/plain": [
       "<seaborn.axisgrid.PairGrid at 0x14458b27520>"
      ]
     },
     "execution_count": 204,
     "metadata": {},
     "output_type": "execute_result"
    },
    {
     "data": {
      "image/png": "[encoded data removed]",
      "text/plain": [
       "<Figure size 540x540 with 12 Axes>"
      ]
     },
     "metadata": {
      "needs_background": "light"
     },
     "output_type": "display_data"
    }
   ],
   "source": [
    "sns.pairplot(birthweightD,diag_kind='kde')\n",
    "\n",
    "#  what can we see from visualizing the data:  here using a scatterplot matrix?\n",
    "#  Positive linear association between birthweight and gestatational age.  Can't really determine the relationship between birthweight and smoking status.  "
   ]
  },
  {
   "cell_type": "code",
   "execution_count": 205,
   "id": "c9cdd5be-7c56-470b-ae40-23eb7bb269dc",
   "metadata": {},
   "outputs": [
    {
     "data": {
      "text/plain": [
       "<seaborn.axisgrid.PairGrid at 0x144569b9910>"
      ]
     },
     "execution_count": 205,
     "metadata": {},
     "output_type": "execute_result"
    },
    {
     "data": {
      "image/png": "[encoded data removed]",
      "text/plain": [
       "<Figure size 446.75x360 with 6 Axes>"
      ]
     },
     "metadata": {
      "needs_background": "light"
     },
     "output_type": "display_data"
    }
   ],
   "source": [
    "#  can use the hue for a object category to show the faceted relationship between Mother_Smokes and Birthweight, which better indicates that their may be an association\n",
    "# even after adjusting for the large influence of gestational age\n",
    "sns.pairplot(birthweight,hue=\"Mother_Smokes\",diag_kind='kde')"
   ]
  },
  {
   "cell_type": "markdown",
   "id": "a81c43b5-685b-4d3f-beaa-3751b4916c08",
   "metadata": {},
   "source": [
    "Aftre taking into account gestational age, is there a significant differnece in the (average) birthweight of infants born to mothers who do or do not smoke?\n",
    "\n",
    "y = (b0 +b1x1 +b2x2)\n",
    "\n",
    "y = birthweight  \n",
    "x1 = gestational age of baby\n",
    "x2 = mother's smoking status"
   ]
  },
  {
   "cell_type": "code",
   "execution_count": 206,
   "id": "51427989-aab9-4b7e-8418-04dad021d32f",
   "metadata": {},
   "outputs": [
    {
     "data": {
      "text/plain": [
       "<seaborn.axisgrid.FacetGrid at 0x1445422fac0>"
      ]
     },
     "execution_count": 206,
     "metadata": {},
     "output_type": "execute_result"
    },
    {
     "data": {
      "image/png": "[encoded data removed]",
      "text/plain": [
       "<Figure size 446.75x360 with 1 Axes>"
      ]
     },
     "metadata": {
      "needs_background": "light"
     },
     "output_type": "display_data"
    }
   ],
   "source": [
    "# The lm plot in seaborn allows you to see the regression line and 95% confidence interval of birthweight regressed on gestational age, divided out for those mother's who smoked or not. \n",
    "#  It appears that the birthweight for babies with mother's who did not smoke is higher than those who did smoke.  \n",
    "\n",
    "sns.lmplot(x='Gestational_age_weeks',y='Birthweight_g',hue='Mother_Smokes',data=birthweight,markers=['o','x'])"
   ]
  },
  {
   "cell_type": "code",
   "execution_count": 207,
   "id": "ee78767c-44db-4b82-a816-b18538187898",
   "metadata": {},
   "outputs": [
    {
     "ename": "NameError",
     "evalue": "name 'ols' is not defined",
     "output_type": "error",
     "traceback": [
      "\u001b[1;31m---------------------------------------------------------------------------\u001b[0m",
      "\u001b[1;31mNameError\u001b[0m                                 Traceback (most recent call last)",
      "Input \u001b[1;32mIn [207]\u001b[0m, in \u001b[0;36m<cell line: 1>\u001b[1;34m()\u001b[0m\n\u001b[1;32m----> 1\u001b[0m model10\u001b[38;5;241m=\u001b[39m\u001b[43mols\u001b[49m(\u001b[38;5;124m'\u001b[39m\u001b[38;5;124mBirthweight_g~Gestational_age_weeks+Mother_Smokes\u001b[39m\u001b[38;5;124m'\u001b[39m,data\u001b[38;5;241m=\u001b[39mbirthweight)\n\u001b[0;32m      2\u001b[0m results10\u001b[38;5;241m=\u001b[39mmodel10\u001b[38;5;241m.\u001b[39mfit()\n\u001b[0;32m      3\u001b[0m \u001b[38;5;28mprint\u001b[39m(results10\u001b[38;5;241m.\u001b[39msummary2())\n",
      "\u001b[1;31mNameError\u001b[0m: name 'ols' is not defined"
     ]
    }
   ],
   "source": [
    "model10=ols('Birthweight_g~Gestational_age_weeks+Mother_Smokes',data=birthweight)\n",
    "results10=model10.fit()\n",
    "print(results10.summary2())"
   ]
  },
  {
   "cell_type": "markdown",
   "id": "79609d32-eed8-4f4f-8f8e-9d4f23234d3b",
   "metadata": {},
   "source": [
    "Regression Equation  \n",
    "y = BirthWeight = -2390 + 143 * GestatationalAge - 244.5 * MotherSmokes[T.yes]\n",
    "\n",
    "When MotherSmokes=0 then Birthweight = -2390 + 143 * GestationalAge\n",
    "\n",
    "When MotherSmokes=1 then Birthweight = -2390 + 143 * GestationalAge - 244.5 * 1 = -2634.5 + 143 * GestationalAge\n",
    "\n",
    "The difference betweeen the two lines is the differnece in birthweight for a fixed gestational age going from mothers who do not smoke to mothers who do smoke (going from No to Yes or 0 to 1). "
   ]
  },
  {
   "cell_type": "markdown",
   "id": "8bdc0d0d-4fe9-4dc7-920d-25e1b992cd84",
   "metadata": {},
   "source": [
    "Is baby's birth weight related to smoking during pregnancy, after taking into account length of gestation?\n",
    "\n",
    "Yes, There is sufficient evidence to conclude that there is a statistically significant difference in the mean birth weight of all babies of smoking mothers and the mean birth weight of babies of all non-smoking mothers, after taking into account length of gestation.\n",
    "\n",
    "There is an advantage to poooling the data instead of running sepearte analysis fro the two groups.  \n",
    "* decreases the stanadrd errors of the coefficients and the residual standard error of the regression (smaller confidnece intervals)\n",
    "* allows you to test the hypotheiss of the association of smoking status on birthweight, after taking into account the influence of gestational age.  This happens all togteher with MLR.  "
   ]
  },
  {
   "cell_type": "markdown",
   "id": "edc2da81-625c-44d0-a106-dfb277002a48",
   "metadata": {},
   "source": [
    "The effect of b1 is the influnece of gestational age on birthweight for both smoking groups (the change in the mean response of birthweiht for each additional week of gestational age).  This is assuming that the influence of gestational age on birthweight (the slppe) is equal between the two smoking groups.  This assumptions seems to hold as can be seen by the parallel lines the regession model.  If these were not equal, then you would think that an interaction is happening between the predictor variables: that the effect of gestational age on birthweight is different between the smokimg groups.  With an interaction, the effect of gestational age on birtweight would depend on the smoking status of the mother.  "
   ]
  },
  {
   "cell_type": "code",
   "execution_count": 193,
   "id": "0fc297fe-1838-4e69-84a9-549f48848617",
   "metadata": {},
   "outputs": [],
   "source": [
    "birthweightYESSmoke=birthweight.drop(birthweight[birthweight.Mother_Smokes==\"no\"].index)\n",
    "birthweightNoSmoke=birthweight.drop(birthweight[birthweight.Mother_Smokes==\"yes\"].index)\n",
    "#birthweightYESSmoke"
   ]
  },
  {
   "cell_type": "code",
   "execution_count": 194,
   "id": "a0deb30d-defb-4dd7-8fc1-c35d684a72b0",
   "metadata": {},
   "outputs": [
    {
     "name": "stdout",
     "output_type": "stream",
     "text": [
      "                       Results: Ordinary least squares\n",
      "==============================================================================\n",
      "Model:                   OLS                  Adj. R-squared:         0.865   \n",
      "Dependent Variable:      Birthweight_g        AIC:                    202.1772\n",
      "Date:                    2022-07-20 11:39     BIC:                    203.7223\n",
      "No. Observations:        16                   Log-Likelihood:         -99.089 \n",
      "Df Model:                1                    F-statistic:            97.04   \n",
      "Df Residuals:            14                   Prob (F-statistic):     1.12e-07\n",
      "R-squared:               0.874                Scale:                  16022.  \n",
      "------------------------------------------------------------------------------\n",
      "                        Coef.    Std.Err.    t    P>|t|    [0.025     0.975]  \n",
      "------------------------------------------------------------------------------\n",
      "Intercept             -2474.5641 553.9725 -4.4669 0.0005 -3662.7169 -1286.4114\n",
      "Gestational_age_weeks   139.0287  14.1134  9.8509 0.0000   108.7586   169.2989\n",
      "------------------------------------------------------------------------------\n",
      "Omnibus:                  0.198             Durbin-Watson:               2.082\n",
      "Prob(Omnibus):            0.906             Jarque-Bera (JB):            0.395\n",
      "Skew:                     -0.108            Prob(JB):                    0.821\n",
      "Kurtosis:                 2.261             Condition No.:               688  \n",
      "==============================================================================\n",
      "\n"
     ]
    },
    {
     "name": "stderr",
     "output_type": "stream",
     "text": [
      "C:\\Users\\carol\\anaconda3\\lib\\site-packages\\scipy\\stats\\stats.py:1541: UserWarning: kurtosistest only valid for n>=20 ... continuing anyway, n=16\n",
      "  warnings.warn(\"kurtosistest only valid for n>=20 ... continuing \"\n"
     ]
    }
   ],
   "source": [
    "model11=ols('Birthweight_g~Gestational_age_weeks',data=birthweightYESSmoke)\n",
    "results11=model11.fit()\n",
    "print(results11.summary2())"
   ]
  },
  {
   "cell_type": "code",
   "execution_count": 195,
   "id": "5dce7cbb-4026-4b6e-969a-d95b82d0c569",
   "metadata": {},
   "outputs": [
    {
     "name": "stdout",
     "output_type": "stream",
     "text": [
      "                       Results: Ordinary least squares\n",
      "==============================================================================\n",
      "Model:                   OLS                  Adj. R-squared:         0.909   \n",
      "Dependent Variable:      Birthweight_g        AIC:                    196.7796\n",
      "Date:                    2022-07-20 11:39     BIC:                    198.3248\n",
      "No. Observations:        16                   Log-Likelihood:         -96.390 \n",
      "Df Model:                1                    F-statistic:            151.1   \n",
      "Df Residuals:            14                   Prob (F-statistic):     6.85e-09\n",
      "R-squared:               0.915                Scale:                  11434.  \n",
      "------------------------------------------------------------------------------\n",
      "                        Coef.    Std.Err.    t    P>|t|    [0.025     0.975]  \n",
      "------------------------------------------------------------------------------\n",
      "Intercept             -2546.1379 457.2930 -5.5678 0.0001 -3526.9338 -1565.3420\n",
      "Gestational_age_weeks   147.2069  11.9741 12.2938 0.0000   121.5251   172.8887\n",
      "------------------------------------------------------------------------------\n",
      "Omnibus:                  4.343             Durbin-Watson:               1.667\n",
      "Prob(Omnibus):            0.114             Jarque-Bera (JB):            1.440\n",
      "Skew:                     -0.217            Prob(JB):                    0.487\n",
      "Kurtosis:                 1.596             Condition No.:               654  \n",
      "==============================================================================\n",
      "\n"
     ]
    },
    {
     "name": "stderr",
     "output_type": "stream",
     "text": [
      "C:\\Users\\carol\\anaconda3\\lib\\site-packages\\scipy\\stats\\stats.py:1541: UserWarning: kurtosistest only valid for n>=20 ... continuing anyway, n=16\n",
      "  warnings.warn(\"kurtosistest only valid for n>=20 ... continuing \"\n"
     ]
    }
   ],
   "source": [
    "model12=ols('Birthweight_g~Gestational_age_weeks',data=birthweightNoSmoke)\n",
    "results12=model12.fit()\n",
    "print(results12.summary2())"
   ]
  },
  {
   "cell_type": "markdown",
   "id": "0538d3af-e948-4c16-b25a-9fd42570b867",
   "metadata": {},
   "source": [
    "The model here assumues that the "
   ]
  },
  {
   "cell_type": "code",
   "execution_count": null,
   "id": "5bb0945f-2384-4632-b9e0-5c4a23b94b9d",
   "metadata": {},
   "outputs": [],
   "source": []
  },
  {
   "cell_type": "code",
   "execution_count": null,
   "id": "bbc9aa04-cbb5-4b98-9a7c-3865ebfb87e1",
   "metadata": {},
   "outputs": [],
   "source": []
  },
  {
   "cell_type": "code",
   "execution_count": null,
   "id": "0e426e49-f621-4896-a645-2efa01e90028",
   "metadata": {},
   "outputs": [],
   "source": []
  },
  {
   "cell_type": "code",
   "execution_count": null,
   "id": "ad1e254d-523a-4994-a5ca-47ff72ef2804",
   "metadata": {},
   "outputs": [],
   "source": []
  },
  {
   "cell_type": "code",
   "execution_count": null,
   "id": "0c06e900-3e51-4be9-bb2e-80896d442454",
   "metadata": {},
   "outputs": [],
   "source": []
  }
 ],
 "metadata": {
  "kernelspec": {
   "display_name": "Python 3 (ipykernel)",
   "language": "python",
   "name": "python3"
  },
  "language_info": {
   "codemirror_mode": {
    "name": "ipython",
    "version": 3
   },
   "file_extension": ".py",
   "mimetype": "text/x-python",
   "name": "python",
   "nbconvert_exporter": "python",
   "pygments_lexer": "ipython3",
   "version": "3.9.12"
  }
 },
 "nbformat": 4,
 "nbformat_minor": 5
}
