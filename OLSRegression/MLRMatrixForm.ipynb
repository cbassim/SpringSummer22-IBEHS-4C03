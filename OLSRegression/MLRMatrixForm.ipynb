{
 "cells": [
  {
   "cell_type": "code",
   "execution_count": 201,
   "id": "5fd24d9b-fcc1-417c-8466-7e560401e936",
   "metadata": {},
   "outputs": [
    {
     "name": "stdin",
     "output_type": "stream",
     "text": [
      "Once deleted, variables cannot be recovered. Proceed (y/[n])?  y\n"
     ]
    }
   ],
   "source": [
    "%reset"
   ]
  },
  {
   "cell_type": "code",
   "execution_count": 202,
   "id": "8f1448b2-696c-4ef6-917c-04edfde852de",
   "metadata": {},
   "outputs": [],
   "source": [
    "import numpy as np\n",
    "import pandas as pd\n",
    "from matplotlib import pyplot as plt\n",
    "import seaborn as sns"
   ]
  },
  {
   "cell_type": "code",
   "execution_count": 203,
   "id": "7519cf68-f68c-410a-be9d-0bc854896e5d",
   "metadata": {},
   "outputs": [],
   "source": [
    "X1=pd.Series([1,3,4,7,9,9],name=\"X1\")\n",
    "X2=pd.Series([9,9,6,3,1,2],name=\"X2\")\n",
    "Y=pd.Series([3,5,6,8,7,10],name=\"Y\")"
   ]
  },
  {
   "cell_type": "code",
   "execution_count": 204,
   "id": "d50e5855-c882-452f-9b6c-47a7b712b58a",
   "metadata": {},
   "outputs": [
    {
     "name": "stdout",
     "output_type": "stream",
     "text": [
      "   X1  X2   Y\n",
      "0   1   9   3\n",
      "1   3   9   5\n",
      "2   4   6   6\n",
      "3   7   3   8\n",
      "4   9   1   7\n",
      "5   9   2  10\n"
     ]
    }
   ],
   "source": [
    "from statsmodels.formula.api import ols\n",
    "\n",
    "DF=pd.concat([X1,X2,Y],axis='columns')\n",
    "print(DF)"
   ]
  },
  {
   "cell_type": "code",
   "execution_count": 205,
   "id": "8fef86a9-6c57-40e0-9e9a-15f3a6a82559",
   "metadata": {},
   "outputs": [
    {
     "name": "stdout",
     "output_type": "stream",
     "text": [
      "                            OLS Regression Results                            \n",
      "==============================================================================\n",
      "Dep. Variable:                      Y   R-squared:                       0.835\n",
      "Model:                            OLS   Adj. R-squared:                  0.726\n",
      "Method:                 Least Squares   F-statistic:                     7.611\n",
      "Date:                Wed, 20 Jul 2022   Prob (F-statistic):             0.0668\n",
      "Time:                        15:12:24   Log-Likelihood:                -7.8795\n",
      "No. Observations:                   6   AIC:                             21.76\n",
      "Df Residuals:                       3   BIC:                             21.13\n",
      "Df Model:                           2                                         \n",
      "Covariance Type:            nonrobust                                         \n",
      "==============================================================================\n",
      "                 coef    std err          t      P>|t|      [0.025      0.975]\n",
      "------------------------------------------------------------------------------\n",
      "Intercept     -1.6927      7.363     -0.230      0.833     -25.126      21.740\n",
      "X1             1.0990      0.723      1.520      0.226      -1.202       3.400\n",
      "X2             0.4297      0.684      0.628      0.574      -1.747       2.607\n",
      "==============================================================================\n",
      "Omnibus:                          nan   Durbin-Watson:                   2.786\n",
      "Prob(Omnibus):                    nan   Jarque-Bera (JB):                0.619\n",
      "Skew:                          -0.656   Prob(JB):                        0.734\n",
      "Kurtosis:                       2.133   Cond. No.                         108.\n",
      "==============================================================================\n",
      "\n",
      "Notes:\n",
      "[1] Standard Errors assume that the covariance matrix of the errors is correctly specified.\n"
     ]
    },
    {
     "name": "stderr",
     "output_type": "stream",
     "text": [
      "C:\\Users\\carol\\anaconda3\\lib\\site-packages\\statsmodels\\stats\\stattools.py:74: ValueWarning: omni_normtest is not valid with less than 8 observations; 6 samples were given.\n",
      "  warn(\"omni_normtest is not valid with less than 8 observations; %i \"\n"
     ]
    }
   ],
   "source": [
    "model1=ols('Y~X1+X2',data=DF)\n",
    "results1=model1.fit()\n",
    "print(results1.summary())"
   ]
  },
  {
   "cell_type": "code",
   "execution_count": 206,
   "id": "d6c64170-6c42-44bc-be37-b5ea10a3a7df",
   "metadata": {},
   "outputs": [
    {
     "data": {
      "text/plain": [
       "5.5"
      ]
     },
     "execution_count": 206,
     "metadata": {},
     "output_type": "execute_result"
    }
   ],
   "source": [
    "np.mean(DF[\"X1\"])"
   ]
  },
  {
   "cell_type": "code",
   "execution_count": 207,
   "id": "1193ba0f-c871-4fe5-8e78-35a811688970",
   "metadata": {},
   "outputs": [
    {
     "data": {
      "text/plain": [
       "5.0"
      ]
     },
     "execution_count": 207,
     "metadata": {},
     "output_type": "execute_result"
    }
   ],
   "source": [
    "np.mean(DF[\"X2\"])"
   ]
  },
  {
   "cell_type": "code",
   "execution_count": 208,
   "id": "0612d1fa-8646-45b1-a243-ea2cd83b8f88",
   "metadata": {},
   "outputs": [
    {
     "data": {
      "text/plain": [
       "array([[-4.5,  4. ],\n",
       "       [-2.5,  4. ],\n",
       "       [-1.5,  1. ],\n",
       "       [ 1.5, -2. ],\n",
       "       [ 3.5, -4. ],\n",
       "       [ 3.5, -3. ]])"
      ]
     },
     "execution_count": 208,
     "metadata": {},
     "output_type": "execute_result"
    }
   ],
   "source": [
    "# Matrix mean centered X values\n",
    "\n",
    "XMatrix=np.array([[-4.5,4],[-2.5,4],[-1.5,1],[1.5,-2],[3.5,-4],[3.5,-3]])\n",
    "XMatrix"
   ]
  },
  {
   "cell_type": "code",
   "execution_count": 209,
   "id": "99fbc6a4-1880-42fc-84ff-7911492e0af9",
   "metadata": {},
   "outputs": [
    {
     "data": {
      "text/plain": [
       "array([[-3.5],\n",
       "       [-1.5],\n",
       "       [-0.5],\n",
       "       [ 1.5],\n",
       "       [ 0.5],\n",
       "       [ 3.5]])"
      ]
     },
     "execution_count": 209,
     "metadata": {},
     "output_type": "execute_result"
    }
   ],
   "source": [
    "Y1=np.array([[-3.5],[-1.5],[-0.5],[1.5],[0.5],[3.5]])\n",
    "Y1"
   ]
  },
  {
   "cell_type": "markdown",
   "id": "02ae1f5f-352d-40bd-8ffa-2c00f4d7b8a2",
   "metadata": {},
   "source": [
    "we will use matrix form for working with linear algebra equations\n",
    "\n",
    "b= ((X transpose X) inverse) * (X transpose y)\n",
    "\n",
    "numpy linear algebra https://numpy.org/doc/stable/reference/routines.linalg.html \n",
    "\n",
    "First find ((X transpose X) inverse)"
   ]
  },
  {
   "cell_type": "code",
   "execution_count": 210,
   "id": "8f15817f-3c14-4183-82dc-db01cfc13cc2",
   "metadata": {},
   "outputs": [
    {
     "data": {
      "text/plain": [
       "array([[-4.5, -2.5, -1.5,  1.5,  3.5,  3.5],\n",
       "       [ 4. ,  4. ,  1. , -2. , -4. , -3. ]])"
      ]
     },
     "execution_count": 210,
     "metadata": {},
     "output_type": "execute_result"
    }
   ],
   "source": [
    "(XMatrix.T)\n",
    "\n",
    "# 2 by 6 matrix, 2 rows and 6 coulms "
   ]
  },
  {
   "cell_type": "code",
   "execution_count": 211,
   "id": "ddd716ad-1934-466f-a976-02b2d67db111",
   "metadata": {},
   "outputs": [
    {
     "data": {
      "text/plain": [
       "array([[-4.5,  4. ],\n",
       "       [-2.5,  4. ],\n",
       "       [-1.5,  1. ],\n",
       "       [ 1.5, -2. ],\n",
       "       [ 3.5, -4. ],\n",
       "       [ 3.5, -3. ]])"
      ]
     },
     "execution_count": 211,
     "metadata": {},
     "output_type": "execute_result"
    }
   ],
   "source": [
    "XMatrix\n",
    "\n",
    "# 6 by 2 matrix\n",
    "# for matrix multiplication to be defined, \n",
    "# the number of columns in the first matrix must be equal to the number of rows in the second matrix."
   ]
  },
  {
   "cell_type": "code",
   "execution_count": 212,
   "id": "a734259a-1ddf-4378-90a1-81e44b3a8502",
   "metadata": {},
   "outputs": [
    {
     "data": {
      "text/plain": [
       "array([[ 55.5, -57. ],\n",
       "       [-57. ,  62. ]])"
      ]
     },
     "execution_count": 212,
     "metadata": {},
     "output_type": "execute_result"
    }
   ],
   "source": [
    "(XMatrix.T.dot(XMatrix))"
   ]
  },
  {
   "cell_type": "code",
   "execution_count": 213,
   "id": "ade1b0d4-94c4-45f9-9980-3bb5187fad16",
   "metadata": {},
   "outputs": [
    {
     "data": {
      "text/plain": [
       "array([[ 11.1, -11.4],\n",
       "       [-11.4,  12.4]])"
      ]
     },
     "execution_count": 213,
     "metadata": {},
     "output_type": "execute_result"
    }
   ],
   "source": [
    "# This is the scaled version of the covariance of the X matrix\n",
    "# SS of X1 and X2 on main diagonal and sum of cross products on the off diagonal: \n",
    "# strength of the relationship between X variables\n",
    "\n",
    "# In python the covariance matrix can be found using np.cov, \n",
    "# where the variances are the main diagonal and the covariance is the other diagonal. \n",
    "# The covariance matrix provides the covariance between the pairs of elements in the vectors of data.  \n",
    "\n",
    "np.cov(X1,X2)"
   ]
  },
  {
   "cell_type": "code",
   "execution_count": 214,
   "id": "2a3bddc4-353a-4596-ba48-7cea9341bee1",
   "metadata": {},
   "outputs": [],
   "source": [
    "XtXinv=np.linalg.inv(XMatrix.T.dot(XMatrix))"
   ]
  },
  {
   "cell_type": "markdown",
   "id": "3d73a977-e78c-402f-a0b3-e5a27a683534",
   "metadata": {},
   "source": [
    "Now find (X transpose y)\n",
    "\n",
    "This is the covariance of the X variables with y"
   ]
  },
  {
   "cell_type": "code",
   "execution_count": 215,
   "id": "a172cd21-a307-4eed-a5ea-903121e336ea",
   "metadata": {},
   "outputs": [
    {
     "data": {
      "text/plain": [
       "array([[-4.5, -2.5, -1.5,  1.5,  3.5,  3.5],\n",
       "       [ 4. ,  4. ,  1. , -2. , -4. , -3. ]])"
      ]
     },
     "execution_count": 215,
     "metadata": {},
     "output_type": "execute_result"
    }
   ],
   "source": [
    "(XMatrix.T)\n",
    "\n",
    "# 2 by 6 matrix"
   ]
  },
  {
   "cell_type": "code",
   "execution_count": 216,
   "id": "e998ce0d-308f-4b51-b495-924be14d3247",
   "metadata": {},
   "outputs": [
    {
     "data": {
      "text/plain": [
       "array([[-3.5],\n",
       "       [-1.5],\n",
       "       [-0.5],\n",
       "       [ 1.5],\n",
       "       [ 0.5],\n",
       "       [ 3.5]])"
      ]
     },
     "execution_count": 216,
     "metadata": {},
     "output_type": "execute_result"
    }
   ],
   "source": [
    "Y1\n",
    "\n",
    "# 6 by 1 matrix"
   ]
  },
  {
   "cell_type": "code",
   "execution_count": 217,
   "id": "62b24944-9cbe-4715-84dc-0b0db723e6b1",
   "metadata": {},
   "outputs": [],
   "source": [
    "XtY=(XMatrix.T).dot(Y1)"
   ]
  },
  {
   "cell_type": "markdown",
   "id": "9f30e59a-d58a-4bd6-96cc-7280b68c3cc6",
   "metadata": {},
   "source": [
    "Finally, multiply the reuslts\n",
    "\n",
    "b= ((X transpose X) inverse) * (X transpose y)"
   ]
  },
  {
   "cell_type": "code",
   "execution_count": 218,
   "id": "bae6167b-9751-49a3-91a7-2ccc67613eba",
   "metadata": {},
   "outputs": [
    {
     "data": {
      "text/plain": [
       "array([[1.09895833],\n",
       "       [0.4296875 ]])"
      ]
     },
     "execution_count": 218,
     "metadata": {},
     "output_type": "execute_result"
    }
   ],
   "source": [
    "XtXinv.dot(XtY)"
   ]
  },
  {
   "cell_type": "code",
   "execution_count": 219,
   "id": "e5247098-214d-46f1-8c46-d2cca22616cd",
   "metadata": {},
   "outputs": [
    {
     "data": {
      "text/plain": [
       "array([[1.09895833],\n",
       "       [0.4296875 ]])"
      ]
     },
     "execution_count": 219,
     "metadata": {},
     "output_type": "execute_result"
    }
   ],
   "source": [
    "np.linalg.inv(XMatrix.T.dot(XMatrix)).dot(XMatrix.T).dot(Y1)"
   ]
  },
  {
   "cell_type": "markdown",
   "id": "c67874f7-339b-4e6e-903f-1cd06a0d9128",
   "metadata": {},
   "source": [
    "this is the coefficient matrix with b1 = 1.099 and b2 = 0.430\n",
    "\n",
    "to get back the y-intercept b0, you can use the equation for the regression equation\n",
    "\n",
    "y=b0 +b1X1 +b2X2\n",
    "\n",
    "b0 = y(mean) - X1(mean)*b1 - X2(mean)*b2"
   ]
  },
  {
   "cell_type": "code",
   "execution_count": 220,
   "id": "d9683f60-4bf9-4e0c-856c-f9e3e5925c31",
   "metadata": {},
   "outputs": [
    {
     "data": {
      "text/plain": [
       "-1.6926873150000006"
      ]
     },
     "execution_count": 220,
     "metadata": {},
     "output_type": "execute_result"
    }
   ],
   "source": [
    "np.mean(Y)-np.mean(X1)*1.09895833-np.mean(X2)*0.4296833"
   ]
  },
  {
   "cell_type": "markdown",
   "id": "36529c96-0db3-4578-89f4-7c8bad62d98d",
   "metadata": {},
   "source": [
    "You can check with OLS"
   ]
  },
  {
   "cell_type": "code",
   "execution_count": 221,
   "id": "17a058a4-12f4-461c-bc05-f0ae354ca67d",
   "metadata": {},
   "outputs": [
    {
     "name": "stdout",
     "output_type": "stream",
     "text": [
      "                            OLS Regression Results                            \n",
      "==============================================================================\n",
      "Dep. Variable:                      Y   R-squared:                       0.835\n",
      "Model:                            OLS   Adj. R-squared:                  0.726\n",
      "Method:                 Least Squares   F-statistic:                     7.611\n",
      "Date:                Wed, 20 Jul 2022   Prob (F-statistic):             0.0668\n",
      "Time:                        15:12:27   Log-Likelihood:                -7.8795\n",
      "No. Observations:                   6   AIC:                             21.76\n",
      "Df Residuals:                       3   BIC:                             21.13\n",
      "Df Model:                           2                                         \n",
      "Covariance Type:            nonrobust                                         \n",
      "==============================================================================\n",
      "                 coef    std err          t      P>|t|      [0.025      0.975]\n",
      "------------------------------------------------------------------------------\n",
      "Intercept     -1.6927      7.363     -0.230      0.833     -25.126      21.740\n",
      "X1             1.0990      0.723      1.520      0.226      -1.202       3.400\n",
      "X2             0.4297      0.684      0.628      0.574      -1.747       2.607\n",
      "==============================================================================\n",
      "Omnibus:                          nan   Durbin-Watson:                   2.786\n",
      "Prob(Omnibus):                    nan   Jarque-Bera (JB):                0.619\n",
      "Skew:                          -0.656   Prob(JB):                        0.734\n",
      "Kurtosis:                       2.133   Cond. No.                         108.\n",
      "==============================================================================\n",
      "\n",
      "Notes:\n",
      "[1] Standard Errors assume that the covariance matrix of the errors is correctly specified.\n"
     ]
    },
    {
     "name": "stderr",
     "output_type": "stream",
     "text": [
      "C:\\Users\\carol\\anaconda3\\lib\\site-packages\\statsmodels\\stats\\stattools.py:74: ValueWarning: omni_normtest is not valid with less than 8 observations; 6 samples were given.\n",
      "  warn(\"omni_normtest is not valid with less than 8 observations; %i \"\n"
     ]
    }
   ],
   "source": [
    "import statsmodels.api as sm\n",
    "\n",
    "model2=sm.OLS(Y1,XMatrix)\n",
    "results2=model1.fit()\n",
    "print(results2.summary())"
   ]
  },
  {
   "cell_type": "code",
   "execution_count": null,
   "id": "5954bf69-ad0a-44c3-8431-43111cd89228",
   "metadata": {},
   "outputs": [],
   "source": []
  },
  {
   "cell_type": "markdown",
   "id": "af2cd91f-1db5-4a41-a814-7b5f3505a2e6",
   "metadata": {},
   "source": [
    "You can use the matrices with the column of 1's directly using the OLS call."
   ]
  },
  {
   "cell_type": "code",
   "execution_count": 222,
   "id": "1c5f4cd2-130f-4749-b944-d57cfa8bff8c",
   "metadata": {},
   "outputs": [
    {
     "data": {
      "text/plain": [
       "array([[1, 1, 9],\n",
       "       [1, 3, 9],\n",
       "       [1, 4, 6],\n",
       "       [1, 7, 3],\n",
       "       [1, 9, 1],\n",
       "       [1, 9, 2]])"
      ]
     },
     "execution_count": 222,
     "metadata": {},
     "output_type": "execute_result"
    }
   ],
   "source": [
    "XMatrix1=np.array([[1,1,9],[1,3,9],[1,4,6],[1,7,3],[1,9,1],[1,9,2]])\n",
    "XMatrix1"
   ]
  },
  {
   "cell_type": "code",
   "execution_count": 223,
   "id": "dde2b7f0-a93c-454a-afdb-eaa81e5dae2a",
   "metadata": {},
   "outputs": [],
   "source": [
    "Y2=([[3],[5],[6],[8],[7],[10]])"
   ]
  },
  {
   "cell_type": "code",
   "execution_count": 224,
   "id": "39c350f1-ea44-4a10-93f6-0f7382bc8f20",
   "metadata": {},
   "outputs": [
    {
     "name": "stdout",
     "output_type": "stream",
     "text": [
      "                            OLS Regression Results                            \n",
      "==============================================================================\n",
      "Dep. Variable:                      y   R-squared:                       0.835\n",
      "Model:                            OLS   Adj. R-squared:                  0.726\n",
      "Method:                 Least Squares   F-statistic:                     7.611\n",
      "Date:                Wed, 20 Jul 2022   Prob (F-statistic):             0.0668\n",
      "Time:                        15:12:29   Log-Likelihood:                -7.8795\n",
      "No. Observations:                   6   AIC:                             21.76\n",
      "Df Residuals:                       3   BIC:                             21.13\n",
      "Df Model:                           2                                         \n",
      "Covariance Type:            nonrobust                                         \n",
      "==============================================================================\n",
      "                 coef    std err          t      P>|t|      [0.025      0.975]\n",
      "------------------------------------------------------------------------------\n",
      "const         -1.6927      7.363     -0.230      0.833     -25.126      21.740\n",
      "x1             1.0990      0.723      1.520      0.226      -1.202       3.400\n",
      "x2             0.4297      0.684      0.628      0.574      -1.747       2.607\n",
      "==============================================================================\n",
      "Omnibus:                          nan   Durbin-Watson:                   2.786\n",
      "Prob(Omnibus):                    nan   Jarque-Bera (JB):                0.619\n",
      "Skew:                          -0.656   Prob(JB):                        0.734\n",
      "Kurtosis:                       2.133   Cond. No.                         108.\n",
      "==============================================================================\n",
      "\n",
      "Notes:\n",
      "[1] Standard Errors assume that the covariance matrix of the errors is correctly specified.\n"
     ]
    },
    {
     "name": "stderr",
     "output_type": "stream",
     "text": [
      "C:\\Users\\carol\\anaconda3\\lib\\site-packages\\statsmodels\\stats\\stattools.py:74: ValueWarning: omni_normtest is not valid with less than 8 observations; 6 samples were given.\n",
      "  warn(\"omni_normtest is not valid with less than 8 observations; %i \"\n"
     ]
    }
   ],
   "source": [
    "import statsmodels.api as sm\n",
    "\n",
    "model3=sm.OLS(Y2,XMatrix1)\n",
    "results3=model3.fit()\n",
    "print(results3.summary())"
   ]
  },
  {
   "cell_type": "code",
   "execution_count": null,
   "id": "ff1e7d24-c2ac-4799-8e48-790c57b070a7",
   "metadata": {},
   "outputs": [],
   "source": []
  },
  {
   "cell_type": "markdown",
   "id": "ab5d1157-aba2-4eec-b5a7-77138ed3a304",
   "metadata": {},
   "source": [
    "You can use a DF as usual directly in ols"
   ]
  },
  {
   "cell_type": "code",
   "execution_count": 225,
   "id": "293034c3-cbe4-435d-8b13-271b8e74107f",
   "metadata": {},
   "outputs": [
    {
     "data": {
      "text/html": [
       "<div>\n",
       "<style scoped>\n",
       "    .dataframe tbody tr th:only-of-type {\n",
       "        vertical-align: middle;\n",
       "    }\n",
       "\n",
       "    .dataframe tbody tr th {\n",
       "        vertical-align: top;\n",
       "    }\n",
       "\n",
       "    .dataframe thead th {\n",
       "        text-align: right;\n",
       "    }\n",
       "</style>\n",
       "<table border=\"1\" class=\"dataframe\">\n",
       "  <thead>\n",
       "    <tr style=\"text-align: right;\">\n",
       "      <th></th>\n",
       "      <th>X1</th>\n",
       "      <th>X2</th>\n",
       "      <th>y</th>\n",
       "    </tr>\n",
       "  </thead>\n",
       "  <tbody>\n",
       "    <tr>\n",
       "      <th>0</th>\n",
       "      <td>1</td>\n",
       "      <td>9</td>\n",
       "      <td>3</td>\n",
       "    </tr>\n",
       "    <tr>\n",
       "      <th>1</th>\n",
       "      <td>3</td>\n",
       "      <td>9</td>\n",
       "      <td>5</td>\n",
       "    </tr>\n",
       "    <tr>\n",
       "      <th>2</th>\n",
       "      <td>4</td>\n",
       "      <td>6</td>\n",
       "      <td>6</td>\n",
       "    </tr>\n",
       "    <tr>\n",
       "      <th>3</th>\n",
       "      <td>7</td>\n",
       "      <td>3</td>\n",
       "      <td>8</td>\n",
       "    </tr>\n",
       "    <tr>\n",
       "      <th>4</th>\n",
       "      <td>9</td>\n",
       "      <td>1</td>\n",
       "      <td>7</td>\n",
       "    </tr>\n",
       "    <tr>\n",
       "      <th>5</th>\n",
       "      <td>9</td>\n",
       "      <td>2</td>\n",
       "      <td>10</td>\n",
       "    </tr>\n",
       "  </tbody>\n",
       "</table>\n",
       "</div>"
      ],
      "text/plain": [
       "   X1  X2   y\n",
       "0   1   9   3\n",
       "1   3   9   5\n",
       "2   4   6   6\n",
       "3   7   3   8\n",
       "4   9   1   7\n",
       "5   9   2  10"
      ]
     },
     "execution_count": 225,
     "metadata": {},
     "output_type": "execute_result"
    }
   ],
   "source": [
    "XMatrix5=pd.DataFrame([[1,9,3],[3,9,5],[4,6,6],[7,3,8],[9,1,7],[9,2,10]],columns=[\"X1\",\"X2\",\"y\"])\n",
    "XMatrix5"
   ]
  },
  {
   "cell_type": "code",
   "execution_count": 227,
   "id": "a08cefe8-8210-4189-827c-b0f8865d799e",
   "metadata": {},
   "outputs": [
    {
     "name": "stdout",
     "output_type": "stream",
     "text": [
      "                            OLS Regression Results                            \n",
      "==============================================================================\n",
      "Dep. Variable:                      y   R-squared:                       0.835\n",
      "Model:                            OLS   Adj. R-squared:                  0.726\n",
      "Method:                 Least Squares   F-statistic:                     7.611\n",
      "Date:                Wed, 20 Jul 2022   Prob (F-statistic):             0.0668\n",
      "Time:                        15:13:55   Log-Likelihood:                -7.8795\n",
      "No. Observations:                   6   AIC:                             21.76\n",
      "Df Residuals:                       3   BIC:                             21.13\n",
      "Df Model:                           2                                         \n",
      "Covariance Type:            nonrobust                                         \n",
      "==============================================================================\n",
      "                 coef    std err          t      P>|t|      [0.025      0.975]\n",
      "------------------------------------------------------------------------------\n",
      "Intercept     -1.6927      7.363     -0.230      0.833     -25.126      21.740\n",
      "X1             1.0990      0.723      1.520      0.226      -1.202       3.400\n",
      "X2             0.4297      0.684      0.628      0.574      -1.747       2.607\n",
      "==============================================================================\n",
      "Omnibus:                          nan   Durbin-Watson:                   2.786\n",
      "Prob(Omnibus):                    nan   Jarque-Bera (JB):                0.619\n",
      "Skew:                          -0.656   Prob(JB):                        0.734\n",
      "Kurtosis:                       2.133   Cond. No.                         108.\n",
      "==============================================================================\n",
      "\n",
      "Notes:\n",
      "[1] Standard Errors assume that the covariance matrix of the errors is correctly specified.\n"
     ]
    },
    {
     "name": "stderr",
     "output_type": "stream",
     "text": [
      "C:\\Users\\carol\\anaconda3\\lib\\site-packages\\statsmodels\\stats\\stattools.py:74: ValueWarning: omni_normtest is not valid with less than 8 observations; 6 samples were given.\n",
      "  warn(\"omni_normtest is not valid with less than 8 observations; %i \"\n"
     ]
    }
   ],
   "source": [
    "from statsmodels.formula.api import ols\n",
    "import statsmodels.formula.api as sm\n",
    "\n",
    "model4=sm.ols('y~X1+X2',data=XMatrix5)\n",
    "results4=model4.fit()\n",
    "print(results4.summary())"
   ]
  },
  {
   "cell_type": "code",
   "execution_count": null,
   "id": "58d1b4d2-164d-4946-8329-00fb3259fd45",
   "metadata": {},
   "outputs": [],
   "source": []
  },
  {
   "cell_type": "code",
   "execution_count": null,
   "id": "3c77d467-beaa-4b59-91a4-3e235a4f7703",
   "metadata": {},
   "outputs": [],
   "source": []
  },
  {
   "cell_type": "code",
   "execution_count": null,
   "id": "8d744850-428a-4d66-93a0-7226b4a62cfb",
   "metadata": {},
   "outputs": [],
   "source": []
  }
 ],
 "metadata": {
  "kernelspec": {
   "display_name": "Python 3 (ipykernel)",
   "language": "python",
   "name": "python3"
  },
  "language_info": {
   "codemirror_mode": {
    "name": "ipython",
    "version": 3
   },
   "file_extension": ".py",
   "mimetype": "text/x-python",
   "name": "python",
   "nbconvert_exporter": "python",
   "pygments_lexer": "ipython3",
   "version": "3.9.12"
  }
 },
 "nbformat": 4,
 "nbformat_minor": 5
}
